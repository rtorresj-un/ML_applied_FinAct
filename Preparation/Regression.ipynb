{
 "cells": [
  {
   "cell_type": "code",
   "execution_count": null,
   "metadata": {},
   "outputs": [],
   "source": [
    "import itertools\n",
    "import pandas as pd\n",
    "import re\n",
    "import math\n",
    "\n",
    "from sklearn.linear_model import LinearRegression\n",
    "from sklearn.metrics import mean_squared_error\n",
    "import matplotlib.pyplot as plt"
   ]
  },
  {
   "cell_type": "code",
   "execution_count": null,
   "metadata": {},
   "outputs": [],
   "source": [
    "def columnas(valores,variable):\n",
    "    y = [re.findall(\"\\\\d+\", j)[0] for j in valores]\n",
    "    y = [int(i) for i in y]\n",
    "    todas = list(set(y))\n",
    "    df = pd.DataFrame()\n",
    "    df[f\"y_{variable}\"] = y\n",
    "    for k in todas:\n",
    "        #print(k)\n",
    "        df[f\"{variable}_{k}\"] = ([1 if k == j else 0 for j in y])\n",
    "    return df\n",
    "\n",
    "def matrix_X(df_triangulo):\n",
    "    k = len(df_triangulo.columns)\n",
    "    alpha = [f'a_{i}' for i in range(1,k+1)]\n",
    "    mu    = [f'u_{i}' for i in range(1,k+1)]\n",
    "    lists = [alpha, mu]\n",
    "    df    = pd.DataFrame(list(itertools.product(*lists)), columns=['a', 'u'])\n",
    "\n",
    "    alpha    = columnas(valores  = df.a, variable = 'a')\n",
    "    mu       = columnas(valores=df.u, variable = 'u')\n",
    "    df_col= pd.concat([alpha, mu], axis=1)\n",
    "\n",
    "\n",
    "    df_col['y_a'] = df_col['y_a'].astype(str) + df_col['y_u'].astype(str) \n",
    "    df_col['y_a'] = [int(i) for i in df_col['y_a']]\n",
    "    df_col = df_col.drop(['y_u', 'u_1'], axis=1)\n",
    "    df_col['a_1'] = 1\n",
    "    df_col.rename(columns={'a_1': 'b0'}, inplace=True)\n",
    "    df_col.rename(columns={'y_a': 'y_ii'}, inplace=True)\n",
    "    #df_col = df_col.drop(['y_ii'], axis=1)\n",
    "    return df_col\n",
    "\n",
    "\n",
    "def matrix_y(df_triangulo):\n",
    "    k = len(df_triangulo.columns)\n",
    "    d0 = pd.DataFrame()\n",
    "    for i in range(k):\n",
    "        for j in range(k):\n",
    "            d1 = pd.DataFrame({'y_ii': [int(f'{i+1}{j+1}')], 'Y': [math.log(df_triangulo.iloc[i, j])]})\n",
    "            d0 = pd.concat([d0, d1], axis=0)\n",
    "    return d0\n",
    "\n",
    "def triangulo(df, grcode, entreno):\n",
    "    \n",
    "    if entreno:\n",
    "        df_trinagulo = df[(df['GRCODE']== grcode ) & (df['DevelopmentYear']<=1997)].copy()\n",
    "    else: \n",
    "        df_trinagulo = df[df['GRCODE']== grcode].copy()\n",
    "        \n",
    "    df_g         = df_trinagulo.groupby([\"AccidentYear\", \"DevelopmentLag\"]).agg({'IncurLoss_F2': ['max']})\n",
    "    df_g.columns = ['Pagos']\n",
    "    df_g         = df_g.reset_index()\n",
    "    pivot_data   = df_g.pivot(index='AccidentYear',columns='DevelopmentLag',values='Pagos').reset_index()\n",
    "    pivot_data   = pivot_data.drop('AccidentYear', axis=1).cumsum(axis=1)\n",
    "    \n",
    "    return pivot_data\n"
   ]
  },
  {
   "cell_type": "code",
   "execution_count": null,
   "metadata": {},
   "outputs": [],
   "source": [
    "input = pd.read_csv(os.path.normpath(os.getcwd() + os.sep + os.pardir)+\"/data/ppauto_pos.csv\")\n",
    "\n",
    "input = input[input.DevelopmentYear <= 1997]\n",
    "\n",
    "cleaning_cond = np.array(['Adriatic Ins Co', 'Aegis Grp', 'Agency Ins Co Of MD Inc',\n",
    "       'Allegheny Cas Co', 'American Modern Ins Grp Inc',\n",
    "       'Armed Forces Ins Exchange', 'Auto Club South Ins Co',\n",
    "       'Baltica-Skandinavia Rein Co Of Amer', 'Bancinsure Inc',\n",
    "       'Bell United Ins Co', 'Century-Natl Ins Co', 'Co-Operative Ins Co',\n",
    "       'Consumers Ins Usa Inc', 'Cornerstone Natl Ins Co',\n",
    "       'Federated Natl Ins Co', 'First Amer Ins Co',\n",
    "       'Florists Mut Ins Grp', 'Harbor Ins Co', 'Homestead Ins Co',\n",
    "       'Inland Mut Ins Co', 'Interstate Auto Ins Co Inc', 'Lancer Ins Co',\n",
    "       'Lumber Ins Cos', 'Manhattan Re Ins Co', 'Mennonite Mut Ins Co',\n",
    "       'Middle States Ins Co Inc', 'National Automotive Ins',\n",
    "       'Nevada General Ins Co', 'New Jersey Citizens United Rcp Exch',\n",
    "       'Nichido Fire & Marine Ins Co Ltd', 'Northwest Gf Mut Ins Co',\n",
    "       'Ocean Harbor Cas Ins Co', 'Overseas Partners Us Reins Co',\n",
    "       'Pacific Ind Ins Co', 'Pacific Pioneer Ins Co',\n",
    "       'Pacific Specialty Ins Co', 'Penn Miller Grp',\n",
    "       'Pennsylvania Mfg Asn Ins Co', 'Pioneer State Mut Ins Co',\n",
    "       'Protective Ins Grp', 'San Antonio Reins Co',\n",
    "       'Seminole Cas Ins Co', 'Southern Group Ind Inc',\n",
    "       'Southern Mut Ins Co', 'Southland Lloyds Ins Co', 'Star Ins Grp',\n",
    "       'Sterling Ins Co', 'Usauto Ins Co', 'Vanliner Ins Co',\n",
    "       'Wea Prop & Cas Ins Co', 'Wellington Ins Co'])\n",
    "\n",
    "input = input[~input.GRNAME.isin(cleaning_cond)]"
   ]
  },
  {
   "cell_type": "code",
   "execution_count": null,
   "metadata": {},
   "outputs": [],
   "source": [
    "df_data        = pd.read_csv('medmal_pos.csv')\n",
    "df_trg_entreno = triangulo(df_data, grcode=669, entreno=True)\n",
    "df_trg_prueba  = triangulo(df_data, grcode=669, entreno=False)\n",
    "df_trg_entreno"
   ]
  },
  {
   "cell_type": "code",
   "execution_count": null,
   "metadata": {},
   "outputs": [],
   "source": [
    "Y = matrix_y(df_trg_entreno)\n",
    "X = matrix_X(df_trg_entreno)\n",
    "\n",
    "Y_X          = pd.merge(Y, X, on='y_ii', how='inner')\n",
    "data_entreno = Y_X[Y_X['Y'].notna()]\n",
    "data_entreno = data_entreno.drop(['y_ii'], axis=1)\n",
    "data_entreno.head()"
   ]
  },
  {
   "cell_type": "code",
   "execution_count": null,
   "metadata": {},
   "outputs": [],
   "source": [
    "Y_prueba      = matrix_y(df_trg_prueba)                   \n",
    "x_prueba      = Y_X[Y_X['Y'].isna()].drop(['Y'], axis=1)\n",
    "data_prueba_  = pd.merge(Y_prueba, x_prueba, on='y_ii', how='inner')\n",
    "data_prueba=data_prueba_.drop(['y_ii'], axis=1)\n",
    "y_ii = data_prueba_['y_ii']"
   ]
  },
  {
   "cell_type": "code",
   "execution_count": null,
   "metadata": {},
   "outputs": [],
   "source": [
    "x_entreno = data_entreno.drop('Y', axis=1)  # Features\n",
    "y_entreno = data_entreno['Y']  # Target variable\n",
    "x_prueba  = data_prueba.drop('Y', axis=1)  # Features\n",
    "y_prueba  = data_prueba['Y']  # Target variable\n",
    "\n",
    "\n",
    "model = LinearRegression()\n",
    "model.fit(x_entreno, y_entreno)\n",
    "\n",
    "y_pred = model.predict(x_prueba)\n",
    "mse = mean_squared_error(y_prueba, y_pred)   # COnsiderar que se debe aplicar la exponencial a los rsultados\n",
    "mse"
   ]
  }
 ],
 "metadata": {
  "language_info": {
   "name": "python"
  }
 },
 "nbformat": 4,
 "nbformat_minor": 2
}
